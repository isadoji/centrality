{
 "cells": [
  {
   "cell_type": "code",
   "execution_count": null,
   "metadata": {},
   "outputs": [],
   "source": [
    "import uproot\n",
    "import numpy as np\n",
    "import matplotlib.pyplot as plt\n",
    "import awkward as ak"
   ]
  },
  {
   "cell_type": "code",
   "execution_count": null,
   "metadata": {},
   "outputs": [],
   "source": [
    "file = uproot.open(\"test.f13.root\")\n",
    "file.classnames()"
   ]
  },
  {
   "cell_type": "code",
   "execution_count": null,
   "metadata": {},
   "outputs": [],
   "source": [
    "events = uproot.open(\"test.f13.root:events\")\n",
    "events.show()"
   ]
  },
  {
   "cell_type": "code",
   "execution_count": null,
   "metadata": {},
   "outputs": [],
   "source": [
    "tree = file['events/fParticles']\n",
    "tree.keys()"
   ]
  },
  {
   "cell_type": "code",
   "execution_count": null,
   "metadata": {},
   "outputs": [],
   "source": [
    "branches = tree.arrays()\n",
    "len(branches)"
   ]
  },
  {
   "cell_type": "code",
   "execution_count": null,
   "metadata": {},
   "outputs": [],
   "source": [
    "\n",
    "branches['fParticles.fPz'][9] # solo un evento\n",
    "len(ak.flatten(branches['fParticles.fPz']))"
   ]
  },
  {
   "cell_type": "code",
   "execution_count": null,
   "metadata": {},
   "outputs": [],
   "source": [
    "p = np.sqrt((branches['fParticles.fPx']*branches['fParticles.fPx']) + (branches['fParticles.fPy']*branches['fParticles.fPy']) + (branches['fParticles.fPz']*branches['fParticles.fPz']))\n",
    "pt = np.sqrt((branches['fParticles.fPx']*branches['fParticles.fPx']) + (branches['fParticles.fPy']*branches['fParticles.fPy']))\n",
    "eta = 0.5*np.log((p+branches['fParticles.fPx'])/(p-branches['fParticles.fPx']))\n",
    "proton = branches['fParticles.fPdg'] == 2212\n",
    "pion = branches['fParticles.fPdg'] == 211\n",
    "kaon = branches['fParticles.fPdg'] == 321\n",
    "\n",
    "ak.flatten(pt[proton])"
   ]
  },
  {
   "cell_type": "code",
   "execution_count": null,
   "metadata": {},
   "outputs": [],
   "source": [
    "plt.figure(figsize=(15,5))\n",
    "plt.subplot(1,2,1)\n",
    "plt.hist(ak.flatten(pt[pion]), bins=100, range=(0, 10),label='p')\n",
    "plt.hist(ak.flatten(pt[proton]), bins=100, range=(0, 10),label='$\\pi^+$')\n",
    "plt.hist(ak.flatten(pt[kaon]), bins=100, range=(0, 10),label='$K^+$')\n",
    "plt.title('No selection')\n",
    "plt.xlabel('$p_T$ [GeV]')\n",
    "plt.ylabel('Entries')\n",
    "plt.yscale('log')\n",
    "plt.legend()\n",
    "plt.subplot(1,2,2)\n",
    "plt.hist(ak.flatten(eta[pion]))\n",
    "plt.hist(ak.flatten(eta[proton]))\n",
    "plt.hist(ak.flatten(eta[kaon]))\n",
    "plt.title('No selection')\n",
    "plt.xlabel('$\\eta$')\n",
    "plt.ylabel('Entries')\n",
    "plt.show()\n"
   ]
  },
  {
   "cell_type": "code",
   "execution_count": null,
   "metadata": {},
   "outputs": [],
   "source": [
    "print('Mean Transverse momentum pions:',np.mean(ak.flatten(pt[pion])))\n",
    "print('Mean Transverse momentum protons:',np.mean(ak.flatten(pt[proton])))\n",
    "print('Mean Transverse momentum kaons:',np.mean(ak.flatten(pt[kaon])))\n"
   ]
  }
 ],
 "metadata": {
  "kernelspec": {
   "display_name": "Python 3.10.6 ('py310')",
   "language": "python",
   "name": "python3"
  },
  "language_info": {
   "codemirror_mode": {
    "name": "ipython",
    "version": 3
   },
   "file_extension": ".py",
   "mimetype": "text/x-python",
   "name": "python",
   "nbconvert_exporter": "python",
   "pygments_lexer": "ipython3",
   "version": "3.10.6"
  },
  "orig_nbformat": 4,
  "vscode": {
   "interpreter": {
    "hash": "819112c24f0d6b36d35f6c5653e120a0c93a25f82bf2809eaf9b65613f02e80c"
   }
  }
 },
 "nbformat": 4,
 "nbformat_minor": 2
}
